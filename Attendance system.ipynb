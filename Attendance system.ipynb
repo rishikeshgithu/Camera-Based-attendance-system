{
 "cells": [
  {
   "cell_type": "code",
   "execution_count": 2,
   "id": "4b3d2106",
   "metadata": {},
   "outputs": [],
   "source": [
    "import cv2\n",
    "cap = cv2.VideoCapture(0)\n",
    "if not (cap.isOpened()):\n",
    "    print(\"Unable to open camera\")"
   ]
  },
  {
   "cell_type": "code",
   "execution_count": null,
   "id": "f89ea6b3",
   "metadata": {},
   "outputs": [],
   "source": [
    "import cv2 \n",
    "\n",
    "def capture image:\n",
    "    cap =cv2"
   ]
  }
 ],
 "metadata": {
  "kernelspec": {
   "display_name": "Python 3 (ipykernel)",
   "language": "python",
   "name": "python3"
  },
  "language_info": {
   "codemirror_mode": {
    "name": "ipython",
    "version": 3
   },
   "file_extension": ".py",
   "mimetype": "text/x-python",
   "name": "python",
   "nbconvert_exporter": "python",
   "pygments_lexer": "ipython3",
   "version": "3.9.12"
  }
 },
 "nbformat": 4,
 "nbformat_minor": 5
}
