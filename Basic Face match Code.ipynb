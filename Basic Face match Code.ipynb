{
 "cells": [
  {
   "cell_type": "code",
   "execution_count": 2,
   "id": "50ff14f2",
   "metadata": {},
   "outputs": [
    {
     "name": "stdout",
     "output_type": "stream",
     "text": [
      "The faces are not a match.\n"
     ]
    }
   ],
   "source": [
    "import face_recognition\n",
    "from PIL import Image, ImageDraw\n",
    "\n",
    "image_path_1 = \"image4.jpg\"  \n",
    "image_path_2 = \"image7.jpg\"\n",
    "\n",
    "image_1 = face_recognition.load_image_file(image_path_1)\n",
    "image_2 = face_recognition.load_image_file(image_path_2)\n",
    "\n",
    "face_locations_1 = face_recognition.face_locations(image_1)\n",
    "face_locations_2 = face_recognition.face_locations(image_2)\n",
    "\n",
    "image_1_draw = Image.fromarray(image_1)\n",
    "draw = ImageDraw.Draw(image_1_draw)\n",
    "\n",
    "for face_location in face_locations_1:\n",
    "    top, right, bottom, left = face_location\n",
    "    draw.rectangle([left, top, right, bottom], outline=\"red\")\n",
    "\n",
    "image_1_draw.show()\n",
    "\n",
    "face_encoding_1 = face_recognition.face_encodings(image_1, face_locations_1)[0]\n",
    "face_encoding_2 = face_recognition.face_encodings(image_2, face_locations_2)[0]\n",
    "\n",
    "results = face_recognition.compare_faces([face_encoding_1], face_encoding_2)\n",
    "if results[0]:\n",
    "    print(\"The faces are a match.\")\n",
    "else:\n",
    "    print(\"The faces are not a match.\")\n"
   ]
  },
  {
   "cell_type": "code",
   "execution_count": null,
   "id": "62283c2c",
   "metadata": {},
   "outputs": [],
   "source": []
  }
 ],
 "metadata": {
  "kernelspec": {
   "display_name": "Python 3 (ipykernel)",
   "language": "python",
   "name": "python3"
  },
  "language_info": {
   "codemirror_mode": {
    "name": "ipython",
    "version": 3
   },
   "file_extension": ".py",
   "mimetype": "text/x-python",
   "name": "python",
   "nbconvert_exporter": "python",
   "pygments_lexer": "ipython3",
   "version": "3.9.12"
  }
 },
 "nbformat": 4,
 "nbformat_minor": 5
}
